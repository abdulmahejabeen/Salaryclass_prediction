{
 "cells": [
  {
   "cell_type": "markdown",
   "metadata": {},
   "source": [
    "## Predicting Salary class in the dataset"
   ]
  },
  {
   "cell_type": "markdown",
   "metadata": {},
   "source": [
    "### Problem Statement"
   ]
  },
  {
   "cell_type": "markdown",
   "metadata": {},
   "source": [
    "Need to classify the normal salary range of different employees based on information provided by different features in the dataset. The Class variable provides the range of salary into 3 categories that are low, mid and high range."
   ]
  },
  {
   "cell_type": "markdown",
   "metadata": {},
   "source": [
    "### Data Ingestion"
   ]
  },
  {
   "cell_type": "code",
   "execution_count": 3,
   "metadata": {},
   "outputs": [],
   "source": [
    "import numpy as np\n",
    "import pandas as pd"
   ]
  },
  {
   "cell_type": "code",
   "execution_count": 4,
   "metadata": {},
   "outputs": [],
   "source": [
    "#Loading the datasets\n",
    "test=pd.read_csv('H_test.csv')\n",
    "train=pd.read_csv('H_train.csv')"
   ]
  },
  {
   "cell_type": "code",
   "execution_count": 9,
   "metadata": {},
   "outputs": [
    {
     "name": "stdout",
     "output_type": "stream",
     "text": [
      "The shape of the dataset (149087, 21)\n",
      "The size of the dataset 3130827\n",
      "The shape of the dataset (63895, 20)\n",
      "The size of the dataset 1277900\n"
     ]
    }
   ],
   "source": [
    "# Shape and Size of the dataset\n",
    "print(\"The shape of the dataset\",train.shape)\n",
    "print(\"The size of the dataset\",train.size)\n",
    "print(\"The shape of the dataset\",test.shape)\n",
    "print(\"The size of the dataset\",test.size)"
   ]
  },
  {
   "cell_type": "code",
   "execution_count": 10,
   "metadata": {},
   "outputs": [
    {
     "data": {
      "text/plain": [
       "ID                         0\n",
       "Year Type                  0\n",
       "Year                       0\n",
       "Organization Group Code    0\n",
       "Organization Group         0\n",
       "Department Code            0\n",
       "Department                 0\n",
       "Union Code                 0\n",
       "Union                      0\n",
       "Job Family Code            0\n",
       "Job Family                 0\n",
       "Job Code                   0\n",
       "Job                        0\n",
       "Employee Identifier        0\n",
       "Overtime                   0\n",
       "Other Salaries             0\n",
       "Retirement                 0\n",
       "Health/Dental              0\n",
       "Other Benefits             0\n",
       "Total Benefits             0\n",
       "Class                      0\n",
       "dtype: int64"
      ]
     },
     "execution_count": 10,
     "metadata": {},
     "output_type": "execute_result"
    }
   ],
   "source": [
    "#Check the null values in the dataset\n",
    "train.isnull().sum()"
   ]
  },
  {
   "cell_type": "code",
   "execution_count": 11,
   "metadata": {},
   "outputs": [
    {
     "data": {
      "text/plain": [
       "ID                         0\n",
       "Year Type                  0\n",
       "Year                       0\n",
       "Organization Group Code    0\n",
       "Organization Group         0\n",
       "Department Code            0\n",
       "Department                 0\n",
       "Union Code                 0\n",
       "Union                      0\n",
       "Job Family Code            0\n",
       "Job Family                 0\n",
       "Job Code                   0\n",
       "Job                        0\n",
       "Employee Identifier        0\n",
       "Overtime                   0\n",
       "Other Salaries             0\n",
       "Retirement                 0\n",
       "Health/Dental              0\n",
       "Other Benefits             0\n",
       "Total Benefits             0\n",
       "dtype: int64"
      ]
     },
     "execution_count": 11,
     "metadata": {},
     "output_type": "execute_result"
    }
   ],
   "source": [
    "#Check the null values in the dataset\n",
    "test.isnull().sum()"
   ]
  },
  {
   "cell_type": "code",
   "execution_count": 16,
   "metadata": {},
   "outputs": [],
   "source": [
    "testid=test['ID']"
   ]
  },
  {
   "cell_type": "code",
   "execution_count": 14,
   "metadata": {},
   "outputs": [],
   "source": [
    "pd.set_option('display.max_columns', 999)"
   ]
  },
  {
   "cell_type": "code",
   "execution_count": 15,
   "metadata": {},
   "outputs": [
    {
     "data": {
      "text/html": [
       "<div>\n",
       "<style scoped>\n",
       "    .dataframe tbody tr th:only-of-type {\n",
       "        vertical-align: middle;\n",
       "    }\n",
       "\n",
       "    .dataframe tbody tr th {\n",
       "        vertical-align: top;\n",
       "    }\n",
       "\n",
       "    .dataframe thead th {\n",
       "        text-align: right;\n",
       "    }\n",
       "</style>\n",
       "<table border=\"1\" class=\"dataframe\">\n",
       "  <thead>\n",
       "    <tr style=\"text-align: right;\">\n",
       "      <th></th>\n",
       "      <th>ID</th>\n",
       "      <th>Year Type</th>\n",
       "      <th>Year</th>\n",
       "      <th>Organization Group Code</th>\n",
       "      <th>Organization Group</th>\n",
       "      <th>Department Code</th>\n",
       "      <th>Department</th>\n",
       "      <th>Union Code</th>\n",
       "      <th>Union</th>\n",
       "      <th>Job Family Code</th>\n",
       "      <th>Job Family</th>\n",
       "      <th>Job Code</th>\n",
       "      <th>Job</th>\n",
       "      <th>Employee Identifier</th>\n",
       "      <th>Overtime</th>\n",
       "      <th>Other Salaries</th>\n",
       "      <th>Retirement</th>\n",
       "      <th>Health/Dental</th>\n",
       "      <th>Other Benefits</th>\n",
       "      <th>Total Benefits</th>\n",
       "      <th>Class</th>\n",
       "    </tr>\n",
       "  </thead>\n",
       "  <tbody>\n",
       "    <tr>\n",
       "      <th>0</th>\n",
       "      <td>9248</td>\n",
       "      <td>Fiscal</td>\n",
       "      <td>2017</td>\n",
       "      <td>3</td>\n",
       "      <td>Human Welfare &amp; Neighborhood Development</td>\n",
       "      <td>DSS</td>\n",
       "      <td>HSA Human Services Agency</td>\n",
       "      <td>535</td>\n",
       "      <td>SEIU - Human Services, Local 1021</td>\n",
       "      <td>2900</td>\n",
       "      <td>Human Services</td>\n",
       "      <td>2905</td>\n",
       "      <td>Senior Eligibility Worker</td>\n",
       "      <td>41351</td>\n",
       "      <td>0.00</td>\n",
       "      <td>240.00</td>\n",
       "      <td>11896.36</td>\n",
       "      <td>13765.55</td>\n",
       "      <td>5248.43</td>\n",
       "      <td>30910.34</td>\n",
       "      <td>2</td>\n",
       "    </tr>\n",
       "    <tr>\n",
       "      <th>1</th>\n",
       "      <td>44541</td>\n",
       "      <td>Fiscal</td>\n",
       "      <td>2014</td>\n",
       "      <td>6</td>\n",
       "      <td>General Administration &amp; Finance</td>\n",
       "      <td>ASR</td>\n",
       "      <td>ASR Assessor / Recorder</td>\n",
       "      <td>21</td>\n",
       "      <td>Prof &amp; Tech Engineers - Miscellaneous, Local 21</td>\n",
       "      <td>4200</td>\n",
       "      <td>Appraisal &amp; Taxation</td>\n",
       "      <td>4222</td>\n",
       "      <td>Sr Personal Property Auditor</td>\n",
       "      <td>41792</td>\n",
       "      <td>0.00</td>\n",
       "      <td>400.00</td>\n",
       "      <td>15429.94</td>\n",
       "      <td>9337.37</td>\n",
       "      <td>5599.01</td>\n",
       "      <td>30366.32</td>\n",
       "      <td>2</td>\n",
       "    </tr>\n",
       "    <tr>\n",
       "      <th>2</th>\n",
       "      <td>47031</td>\n",
       "      <td>Fiscal</td>\n",
       "      <td>2014</td>\n",
       "      <td>3</td>\n",
       "      <td>Human Welfare &amp; Neighborhood Development</td>\n",
       "      <td>DSS</td>\n",
       "      <td>HSA Human Services Agency</td>\n",
       "      <td>535</td>\n",
       "      <td>SEIU - Human Services, Local 1021</td>\n",
       "      <td>2900</td>\n",
       "      <td>Human Services</td>\n",
       "      <td>2910</td>\n",
       "      <td>Social Worker</td>\n",
       "      <td>9357</td>\n",
       "      <td>0.00</td>\n",
       "      <td>1080.00</td>\n",
       "      <td>9682.00</td>\n",
       "      <td>8848.03</td>\n",
       "      <td>3463.92</td>\n",
       "      <td>21993.95</td>\n",
       "      <td>2</td>\n",
       "    </tr>\n",
       "    <tr>\n",
       "      <th>3</th>\n",
       "      <td>139416</td>\n",
       "      <td>Fiscal</td>\n",
       "      <td>2014</td>\n",
       "      <td>1</td>\n",
       "      <td>Public Protection</td>\n",
       "      <td>FIR</td>\n",
       "      <td>FIR Fire Department</td>\n",
       "      <td>798</td>\n",
       "      <td>Firefighters - Miscellaneous, Local 798</td>\n",
       "      <td>H000</td>\n",
       "      <td>Fire Services</td>\n",
       "      <td>H002</td>\n",
       "      <td>Firefighter</td>\n",
       "      <td>28022</td>\n",
       "      <td>25730.46</td>\n",
       "      <td>18414.18</td>\n",
       "      <td>24222.26</td>\n",
       "      <td>13911.13</td>\n",
       "      <td>2416.58</td>\n",
       "      <td>40549.97</td>\n",
       "      <td>3</td>\n",
       "    </tr>\n",
       "    <tr>\n",
       "      <th>4</th>\n",
       "      <td>123780</td>\n",
       "      <td>Fiscal</td>\n",
       "      <td>2013</td>\n",
       "      <td>2</td>\n",
       "      <td>Public Works, Transportation &amp; Commerce</td>\n",
       "      <td>MTA</td>\n",
       "      <td>MTA Municipal Transprtn Agncy</td>\n",
       "      <td>790</td>\n",
       "      <td>SEIU - Miscellaneous, Local 1021</td>\n",
       "      <td>1600</td>\n",
       "      <td>Payroll, Billing &amp; Accounting</td>\n",
       "      <td>1224</td>\n",
       "      <td>Pr Payroll &amp; Personnel Clerk</td>\n",
       "      <td>51052</td>\n",
       "      <td>1138.28</td>\n",
       "      <td>2148.11</td>\n",
       "      <td>15437.62</td>\n",
       "      <td>12828.15</td>\n",
       "      <td>7246.54</td>\n",
       "      <td>35512.31</td>\n",
       "      <td>3</td>\n",
       "    </tr>\n",
       "  </tbody>\n",
       "</table>\n",
       "</div>"
      ],
      "text/plain": [
       "       ID Year Type  Year  Organization Group Code  \\\n",
       "0    9248    Fiscal  2017                        3   \n",
       "1   44541    Fiscal  2014                        6   \n",
       "2   47031    Fiscal  2014                        3   \n",
       "3  139416    Fiscal  2014                        1   \n",
       "4  123780    Fiscal  2013                        2   \n",
       "\n",
       "                         Organization Group Department Code  \\\n",
       "0  Human Welfare & Neighborhood Development             DSS   \n",
       "1          General Administration & Finance             ASR   \n",
       "2  Human Welfare & Neighborhood Development             DSS   \n",
       "3                         Public Protection             FIR   \n",
       "4   Public Works, Transportation & Commerce             MTA   \n",
       "\n",
       "                      Department  Union Code  \\\n",
       "0      HSA Human Services Agency         535   \n",
       "1        ASR Assessor / Recorder          21   \n",
       "2      HSA Human Services Agency         535   \n",
       "3            FIR Fire Department         798   \n",
       "4  MTA Municipal Transprtn Agncy         790   \n",
       "\n",
       "                                             Union Job Family Code  \\\n",
       "0                SEIU - Human Services, Local 1021            2900   \n",
       "1  Prof & Tech Engineers - Miscellaneous, Local 21            4200   \n",
       "2                SEIU - Human Services, Local 1021            2900   \n",
       "3          Firefighters - Miscellaneous, Local 798            H000   \n",
       "4                 SEIU - Miscellaneous, Local 1021            1600   \n",
       "\n",
       "                      Job Family Job Code                           Job  \\\n",
       "0                 Human Services     2905     Senior Eligibility Worker   \n",
       "1           Appraisal & Taxation     4222  Sr Personal Property Auditor   \n",
       "2                 Human Services     2910                 Social Worker   \n",
       "3                  Fire Services     H002                   Firefighter   \n",
       "4  Payroll, Billing & Accounting     1224  Pr Payroll & Personnel Clerk   \n",
       "\n",
       "   Employee Identifier  Overtime  Other Salaries  Retirement  Health/Dental  \\\n",
       "0                41351      0.00          240.00    11896.36       13765.55   \n",
       "1                41792      0.00          400.00    15429.94        9337.37   \n",
       "2                 9357      0.00         1080.00     9682.00        8848.03   \n",
       "3                28022  25730.46        18414.18    24222.26       13911.13   \n",
       "4                51052   1138.28         2148.11    15437.62       12828.15   \n",
       "\n",
       "   Other Benefits  Total Benefits  Class  \n",
       "0         5248.43        30910.34      2  \n",
       "1         5599.01        30366.32      2  \n",
       "2         3463.92        21993.95      2  \n",
       "3         2416.58        40549.97      3  \n",
       "4         7246.54        35512.31      3  "
      ]
     },
     "execution_count": 15,
     "metadata": {},
     "output_type": "execute_result"
    }
   ],
   "source": [
    "train.head()"
   ]
  },
  {
   "cell_type": "code",
   "execution_count": 18,
   "metadata": {},
   "outputs": [],
   "source": [
    "train['salary']=train['Overtime']+train['Other Salaries']+train['Total Benefits']\n",
    "test['salary']=test['Overtime']+test['Other Salaries']+test['Total Benefits']\n",
    "train= train.drop(['ID','Department','Overtime','Total Benefits', 'Other Salaries','Organization Group','Union','Job Family','Job','Retirement','Health/Dental','Other Benefits','Year Type','Employee Identifier'],axis=1)\n",
    "test= test.drop(['ID','Department','Overtime','Total Benefits', 'Other Salaries','Organization Group','Union','Job Family','Job','Retirement','Health/Dental','Other Benefits','Year Type','Employee Identifier'],axis=1)"
   ]
  },
  {
   "cell_type": "code",
   "execution_count": 22,
   "metadata": {},
   "outputs": [],
   "source": [
    "from sklearn.preprocessing import LabelEncoder,StandardScaler"
   ]
  },
  {
   "cell_type": "code",
   "execution_count": 23,
   "metadata": {},
   "outputs": [],
   "source": [
    "lm=LabelEncoder()\n",
    "train['Department Code']=lm.fit_transform(train['Department Code'])\n",
    "train['Job Family Code']=lm.fit_transform(train['Job Family Code'])\n",
    "train['Job Code'] = lm.fit_transform(train['Job Code'])\n",
    "test['Department Code']=lm.fit_transform(test['Department Code'])\n",
    "test['Job Family Code']=lm.fit_transform(test['Job Family Code'])\n",
    "test['Job Code']= lm.fit_transform(test['Job Code'])"
   ]
  },
  {
   "cell_type": "code",
   "execution_count": 24,
   "metadata": {},
   "outputs": [
    {
     "data": {
      "text/html": [
       "<div>\n",
       "<style scoped>\n",
       "    .dataframe tbody tr th:only-of-type {\n",
       "        vertical-align: middle;\n",
       "    }\n",
       "\n",
       "    .dataframe tbody tr th {\n",
       "        vertical-align: top;\n",
       "    }\n",
       "\n",
       "    .dataframe thead th {\n",
       "        text-align: right;\n",
       "    }\n",
       "</style>\n",
       "<table border=\"1\" class=\"dataframe\">\n",
       "  <thead>\n",
       "    <tr style=\"text-align: right;\">\n",
       "      <th></th>\n",
       "      <th>Year</th>\n",
       "      <th>Organization Group Code</th>\n",
       "      <th>Department Code</th>\n",
       "      <th>Union Code</th>\n",
       "      <th>Job Family Code</th>\n",
       "      <th>Job Code</th>\n",
       "      <th>Class</th>\n",
       "      <th>salary</th>\n",
       "    </tr>\n",
       "  </thead>\n",
       "  <tbody>\n",
       "    <tr>\n",
       "      <th>0</th>\n",
       "      <td>2017</td>\n",
       "      <td>3</td>\n",
       "      <td>22</td>\n",
       "      <td>535</td>\n",
       "      <td>18</td>\n",
       "      <td>373</td>\n",
       "      <td>2</td>\n",
       "      <td>31150.34</td>\n",
       "    </tr>\n",
       "    <tr>\n",
       "      <th>1</th>\n",
       "      <td>2014</td>\n",
       "      <td>6</td>\n",
       "      <td>5</td>\n",
       "      <td>21</td>\n",
       "      <td>25</td>\n",
       "      <td>509</td>\n",
       "      <td>2</td>\n",
       "      <td>30766.32</td>\n",
       "    </tr>\n",
       "  </tbody>\n",
       "</table>\n",
       "</div>"
      ],
      "text/plain": [
       "   Year  Organization Group Code  Department Code  Union Code  \\\n",
       "0  2017                        3               22         535   \n",
       "1  2014                        6                5          21   \n",
       "\n",
       "   Job Family Code  Job Code  Class    salary  \n",
       "0               18       373      2  31150.34  \n",
       "1               25       509      2  30766.32  "
      ]
     },
     "execution_count": 24,
     "metadata": {},
     "output_type": "execute_result"
    }
   ],
   "source": [
    "train.head(2)"
   ]
  },
  {
   "cell_type": "code",
   "execution_count": 25,
   "metadata": {},
   "outputs": [
    {
     "data": {
      "text/html": [
       "<div>\n",
       "<style scoped>\n",
       "    .dataframe tbody tr th:only-of-type {\n",
       "        vertical-align: middle;\n",
       "    }\n",
       "\n",
       "    .dataframe tbody tr th {\n",
       "        vertical-align: top;\n",
       "    }\n",
       "\n",
       "    .dataframe thead th {\n",
       "        text-align: right;\n",
       "    }\n",
       "</style>\n",
       "<table border=\"1\" class=\"dataframe\">\n",
       "  <thead>\n",
       "    <tr style=\"text-align: right;\">\n",
       "      <th></th>\n",
       "      <th>Year</th>\n",
       "      <th>Organization Group Code</th>\n",
       "      <th>Department Code</th>\n",
       "      <th>Union Code</th>\n",
       "      <th>Job Family Code</th>\n",
       "      <th>Job Code</th>\n",
       "      <th>salary</th>\n",
       "    </tr>\n",
       "  </thead>\n",
       "  <tbody>\n",
       "    <tr>\n",
       "      <th>0</th>\n",
       "      <td>2015</td>\n",
       "      <td>4</td>\n",
       "      <td>20</td>\n",
       "      <td>790</td>\n",
       "      <td>13</td>\n",
       "      <td>261</td>\n",
       "      <td>4217.44</td>\n",
       "    </tr>\n",
       "    <tr>\n",
       "      <th>1</th>\n",
       "      <td>2016</td>\n",
       "      <td>4</td>\n",
       "      <td>20</td>\n",
       "      <td>791</td>\n",
       "      <td>12</td>\n",
       "      <td>245</td>\n",
       "      <td>54975.04</td>\n",
       "    </tr>\n",
       "  </tbody>\n",
       "</table>\n",
       "</div>"
      ],
      "text/plain": [
       "   Year  Organization Group Code  Department Code  Union Code  \\\n",
       "0  2015                        4               20         790   \n",
       "1  2016                        4               20         791   \n",
       "\n",
       "   Job Family Code  Job Code    salary  \n",
       "0               13       261   4217.44  \n",
       "1               12       245  54975.04  "
      ]
     },
     "execution_count": 25,
     "metadata": {},
     "output_type": "execute_result"
    }
   ],
   "source": [
    "test.head(2)"
   ]
  },
  {
   "cell_type": "markdown",
   "metadata": {},
   "source": [
    "### Model Building"
   ]
  },
  {
   "cell_type": "code",
   "execution_count": 26,
   "metadata": {},
   "outputs": [],
   "source": [
    "X=train.drop('Class',axis=1)\n",
    "y=train['Class']"
   ]
  },
  {
   "cell_type": "code",
   "execution_count": 28,
   "metadata": {},
   "outputs": [],
   "source": [
    "from sklearn.model_selection import train_test_split"
   ]
  },
  {
   "cell_type": "code",
   "execution_count": 29,
   "metadata": {},
   "outputs": [],
   "source": [
    "Xtrain,Xtest,ytrain,ytest=train_test_split(X,y,test_size=0.3,random_state=5)"
   ]
  },
  {
   "cell_type": "code",
   "execution_count": 33,
   "metadata": {},
   "outputs": [],
   "source": [
    "from sklearn.linear_model import LogisticRegression\n",
    "from sklearn.metrics import accuracy_score,roc_curve,auc,classification_report,confusion_matrix\n",
    "from sklearn.neighbors import KNeighborsClassifier\n",
    "from sklearn.tree import DecisionTreeClassifier\n",
    "from sklearn.naive_bayes import GaussianNB\n",
    "from sklearn.ensemble import RandomForestClassifier\n",
    "from sklearn.ensemble import GradientBoostingClassifier\n",
    "\n",
    "import warnings\n",
    "warnings.filterwarnings('ignore')"
   ]
  },
  {
   "cell_type": "markdown",
   "metadata": {},
   "source": [
    "### Logistic Regression"
   ]
  },
  {
   "cell_type": "code",
   "execution_count": 34,
   "metadata": {},
   "outputs": [
    {
     "data": {
      "text/plain": [
       "LogisticRegression(C=1.0, class_weight=None, dual=False, fit_intercept=True,\n",
       "                   intercept_scaling=1, l1_ratio=None, max_iter=100,\n",
       "                   multi_class='warn', n_jobs=None, penalty='l2',\n",
       "                   random_state=None, solver='warn', tol=0.0001, verbose=0,\n",
       "                   warm_start=False)"
      ]
     },
     "execution_count": 34,
     "metadata": {},
     "output_type": "execute_result"
    }
   ],
   "source": [
    "logreg_model = LogisticRegression()\n",
    "logreg_model.fit(Xtrain, ytrain)"
   ]
  },
  {
   "cell_type": "code",
   "execution_count": 35,
   "metadata": {},
   "outputs": [
    {
     "name": "stdout",
     "output_type": "stream",
     "text": [
      "Training score = 0.8008623993867382\n",
      "Test score = 0.8032061171104702\n"
     ]
    }
   ],
   "source": [
    "print('Training score =', logreg_model.score(Xtrain, ytrain))\n",
    "print('Test score =', logreg_model.score(Xtest, ytest))"
   ]
  },
  {
   "cell_type": "code",
   "execution_count": 36,
   "metadata": {},
   "outputs": [],
   "source": [
    "predictions = logreg_model.predict(Xtest)"
   ]
  },
  {
   "cell_type": "code",
   "execution_count": 38,
   "metadata": {},
   "outputs": [
    {
     "name": "stdout",
     "output_type": "stream",
     "text": [
      "              precision    recall  f1-score   support\n",
      "\n",
      "           1       0.90      0.96      0.93     14602\n",
      "           2       0.77      0.60      0.67     14864\n",
      "           3       0.74      0.86      0.79     15261\n",
      "\n",
      "    accuracy                           0.80     44727\n",
      "   macro avg       0.80      0.80      0.80     44727\n",
      "weighted avg       0.80      0.80      0.80     44727\n",
      "\n"
     ]
    }
   ],
   "source": [
    "print(classification_report(ytest,predictions))"
   ]
  },
  {
   "cell_type": "code",
   "execution_count": 44,
   "metadata": {},
   "outputs": [],
   "source": [
    "ypredictions =pd.DataFrame(logreg_model.predict(Xtest))"
   ]
  },
  {
   "cell_type": "code",
   "execution_count": 45,
   "metadata": {},
   "outputs": [
    {
     "data": {
      "text/plain": [
       "0.8032061171104702"
      ]
     },
     "execution_count": 45,
     "metadata": {},
     "output_type": "execute_result"
    }
   ],
   "source": [
    "accuracy_score(ytest,ypredictions)"
   ]
  },
  {
   "cell_type": "markdown",
   "metadata": {},
   "source": [
    "### Random Forest Classifier"
   ]
  },
  {
   "cell_type": "code",
   "execution_count": 40,
   "metadata": {},
   "outputs": [],
   "source": [
    "RF=RandomForestClassifier(n_estimators=100)"
   ]
  },
  {
   "cell_type": "code",
   "execution_count": 41,
   "metadata": {},
   "outputs": [
    {
     "data": {
      "text/plain": [
       "RandomForestClassifier(bootstrap=True, class_weight=None, criterion='gini',\n",
       "                       max_depth=None, max_features='auto', max_leaf_nodes=None,\n",
       "                       min_impurity_decrease=0.0, min_impurity_split=None,\n",
       "                       min_samples_leaf=1, min_samples_split=2,\n",
       "                       min_weight_fraction_leaf=0.0, n_estimators=100,\n",
       "                       n_jobs=None, oob_score=False, random_state=None,\n",
       "                       verbose=0, warm_start=False)"
      ]
     },
     "execution_count": 41,
     "metadata": {},
     "output_type": "execute_result"
    }
   ],
   "source": [
    "RF.fit(Xtrain,ytrain)"
   ]
  },
  {
   "cell_type": "code",
   "execution_count": 42,
   "metadata": {},
   "outputs": [],
   "source": [
    "ypred=pd.DataFrame(RF.predict(Xtest))"
   ]
  },
  {
   "cell_type": "code",
   "execution_count": 43,
   "metadata": {},
   "outputs": [
    {
     "data": {
      "text/plain": [
       "0.9289243633599392"
      ]
     },
     "execution_count": 43,
     "metadata": {},
     "output_type": "execute_result"
    }
   ],
   "source": [
    "accuracy_score(ytest,ypred)"
   ]
  },
  {
   "cell_type": "code",
   "execution_count": null,
   "metadata": {},
   "outputs": [],
   "source": [
    "Test_pred=RF.predict(test)\n",
    "testdf=pd.DataFrame({'ID':testid,'Class':Test_pred})"
   ]
  },
  {
   "cell_type": "code",
   "execution_count": null,
   "metadata": {},
   "outputs": [],
   "source": [
    "testdf.to_csv('submission1.csv',index=False)"
   ]
  },
  {
   "cell_type": "code",
   "execution_count": null,
   "metadata": {},
   "outputs": [],
   "source": []
  }
 ],
 "metadata": {
  "kernelspec": {
   "display_name": "Python 3",
   "language": "python",
   "name": "python3"
  },
  "language_info": {
   "codemirror_mode": {
    "name": "ipython",
    "version": 3
   },
   "file_extension": ".py",
   "mimetype": "text/x-python",
   "name": "python",
   "nbconvert_exporter": "python",
   "pygments_lexer": "ipython3",
   "version": "3.7.3"
  }
 },
 "nbformat": 4,
 "nbformat_minor": 2
}
